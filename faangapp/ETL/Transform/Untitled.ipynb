{
 "cells": [
  {
   "cell_type": "code",
   "execution_count": 12,
   "metadata": {},
   "outputs": [],
   "source": [
    "# Import Dependencies\n",
    "import pandas as pd\n",
    "import csv\n",
    "import os\n",
    "import numpy as np"
   ]
  },
  {
   "cell_type": "code",
   "execution_count": 7,
   "metadata": {},
   "outputs": [],
   "source": [
    "# Create a path for the csv\n",
    "stats = 'Consensus.csv'"
   ]
  },
  {
   "cell_type": "code",
   "execution_count": 8,
   "metadata": {},
   "outputs": [],
   "source": [
    "consensus = pd.read_csv(stats)"
   ]
  },
  {
   "cell_type": "code",
   "execution_count": 9,
   "metadata": {},
   "outputs": [
    {
     "data": {
      "text/html": [
       "<div>\n",
       "<style scoped>\n",
       "    .dataframe tbody tr th:only-of-type {\n",
       "        vertical-align: middle;\n",
       "    }\n",
       "\n",
       "    .dataframe tbody tr th {\n",
       "        vertical-align: top;\n",
       "    }\n",
       "\n",
       "    .dataframe thead th {\n",
       "        text-align: right;\n",
       "    }\n",
       "</style>\n",
       "<table border=\"1\" class=\"dataframe\">\n",
       "  <thead>\n",
       "    <tr style=\"text-align: right;\">\n",
       "      <th></th>\n",
       "      <th>Company</th>\n",
       "      <th>Number_of_Offices</th>\n",
       "      <th>Revenue_2019(Millions)</th>\n",
       "      <th>Revenue_2020(Millions)</th>\n",
       "      <th>Employees(2019)</th>\n",
       "      <th>Employees(2020)</th>\n",
       "      <th>Job_Oppertunities</th>\n",
       "      <th>Stocks_Dec_2019</th>\n",
       "      <th>Stocks_Dec_2020</th>\n",
       "    </tr>\n",
       "  </thead>\n",
       "  <tbody>\n",
       "    <tr>\n",
       "      <th>0</th>\n",
       "      <td>Amazon</td>\n",
       "      <td>233</td>\n",
       "      <td>45379.01</td>\n",
       "      <td>51448.51</td>\n",
       "      <td>798000</td>\n",
       "      <td>1298000</td>\n",
       "      <td>49705</td>\n",
       "      <td>1847.84</td>\n",
       "      <td>3185.27</td>\n",
       "    </tr>\n",
       "    <tr>\n",
       "      <th>1</th>\n",
       "      <td>Apple</td>\n",
       "      <td>26</td>\n",
       "      <td>95868.86</td>\n",
       "      <td>102347.86</td>\n",
       "      <td>137000</td>\n",
       "      <td>147000</td>\n",
       "      <td>645</td>\n",
       "      <td>72.68</td>\n",
       "      <td>130.76</td>\n",
       "    </tr>\n",
       "    <tr>\n",
       "      <th>2</th>\n",
       "      <td>Facebook</td>\n",
       "      <td>85</td>\n",
       "      <td>20812.72</td>\n",
       "      <td>25735.48</td>\n",
       "      <td>44942</td>\n",
       "      <td>58604</td>\n",
       "      <td>3257</td>\n",
       "      <td>205.25</td>\n",
       "      <td>268.11</td>\n",
       "    </tr>\n",
       "    <tr>\n",
       "      <th>3</th>\n",
       "      <td>Netflix</td>\n",
       "      <td>13</td>\n",
       "      <td>5290.15</td>\n",
       "      <td>6668.76</td>\n",
       "      <td>8600</td>\n",
       "      <td>9400</td>\n",
       "      <td>506</td>\n",
       "      <td>323.31</td>\n",
       "      <td>514.48</td>\n",
       "    </tr>\n",
       "    <tr>\n",
       "      <th>4</th>\n",
       "      <td>Google</td>\n",
       "      <td>85</td>\n",
       "      <td>45379.01</td>\n",
       "      <td>51448.51</td>\n",
       "      <td>118899</td>\n",
       "      <td>235301</td>\n",
       "      <td>3591</td>\n",
       "      <td>1337.02</td>\n",
       "      <td>1758.72</td>\n",
       "    </tr>\n",
       "    <tr>\n",
       "      <th>5</th>\n",
       "      <td>Microsoft</td>\n",
       "      <td>177</td>\n",
       "      <td>38217.45</td>\n",
       "      <td>42530.91</td>\n",
       "      <td>144000</td>\n",
       "      <td>163000</td>\n",
       "      <td>8019</td>\n",
       "      <td>155.69</td>\n",
       "      <td>220.51</td>\n",
       "    </tr>\n",
       "  </tbody>\n",
       "</table>\n",
       "</div>"
      ],
      "text/plain": [
       "      Company  Number_of_Offices   Revenue_2019(Millions)   \\\n",
       "0      Amazon                 233                 45379.01   \n",
       "1       Apple                  26                 95868.86   \n",
       "2    Facebook                  85                 20812.72   \n",
       "3     Netflix                  13                  5290.15   \n",
       "4      Google                  85                 45379.01   \n",
       "5  Microsoft                  177                 38217.45   \n",
       "\n",
       "   Revenue_2020(Millions)   Employees(2019)  Employees(2020)  \\\n",
       "0                 51448.51           798000          1298000   \n",
       "1                102347.86           137000           147000   \n",
       "2                 25735.48            44942            58604   \n",
       "3                  6668.76             8600             9400   \n",
       "4                 51448.51           118899           235301   \n",
       "5                 42530.91           144000           163000   \n",
       "\n",
       "   Job_Oppertunities   Stocks_Dec_2019  Stocks_Dec_2020  \n",
       "0               49705          1847.84          3185.27  \n",
       "1                 645            72.68           130.76  \n",
       "2                3257           205.25           268.11  \n",
       "3                 506           323.31           514.48  \n",
       "4                3591          1337.02          1758.72  \n",
       "5                8019           155.69           220.51  "
      ]
     },
     "execution_count": 9,
     "metadata": {},
     "output_type": "execute_result"
    }
   ],
   "source": [
    "consensus"
   ]
  },
  {
   "cell_type": "code",
   "execution_count": 14,
   "metadata": {},
   "outputs": [
    {
     "data": {
      "text/plain": [
       "'<table border=\"1\" class=\"dataframe\">\\n  <thead>\\n    <tr style=\"text-align: right;\">\\n      <th></th>\\n      <th>Company</th>\\n      <th>Number_of_Offices</th>\\n      <th>Revenue_2019(Millions)</th>\\n      <th>Revenue_2020(Millions)</th>\\n      <th>Employees(2019)</th>\\n      <th>Employees(2020)</th>\\n      <th>Job_Oppertunities</th>\\n      <th>Stocks_Dec_2019</th>\\n      <th>Stocks_Dec_2020</th>\\n    </tr>\\n  </thead>\\n  <tbody>\\n    <tr>\\n      <th>0</th>\\n      <td>Amazon</td>\\n      <td>233</td>\\n      <td>45379.01</td>\\n      <td>51448.51</td>\\n      <td>798000</td>\\n      <td>1298000</td>\\n      <td>49705</td>\\n      <td>1847.84</td>\\n      <td>3185.27</td>\\n    </tr>\\n    <tr>\\n      <th>1</th>\\n      <td>Apple</td>\\n      <td>26</td>\\n      <td>95868.86</td>\\n      <td>102347.86</td>\\n      <td>137000</td>\\n      <td>147000</td>\\n      <td>645</td>\\n      <td>72.68</td>\\n      <td>130.76</td>\\n    </tr>\\n    <tr>\\n      <th>2</th>\\n      <td>Facebook</td>\\n      <td>85</td>\\n      <td>20812.72</td>\\n      <td>25735.48</td>\\n      <td>44942</td>\\n      <td>58604</td>\\n      <td>3257</td>\\n      <td>205.25</td>\\n      <td>268.11</td>\\n    </tr>\\n    <tr>\\n      <th>3</th>\\n      <td>Netflix</td>\\n      <td>13</td>\\n      <td>5290.15</td>\\n      <td>6668.76</td>\\n      <td>8600</td>\\n      <td>9400</td>\\n      <td>506</td>\\n      <td>323.31</td>\\n      <td>514.48</td>\\n    </tr>\\n    <tr>\\n      <th>4</th>\\n      <td>Google</td>\\n      <td>85</td>\\n      <td>45379.01</td>\\n      <td>51448.51</td>\\n      <td>118899</td>\\n      <td>235301</td>\\n      <td>3591</td>\\n      <td>1337.02</td>\\n      <td>1758.72</td>\\n    </tr>\\n    <tr>\\n      <th>5</th>\\n      <td>Microsoft</td>\\n      <td>177</td>\\n      <td>38217.45</td>\\n      <td>42530.91</td>\\n      <td>144000</td>\\n      <td>163000</td>\\n      <td>8019</td>\\n      <td>155.69</td>\\n      <td>220.51</td>\\n    </tr>\\n  </tbody>\\n</table>'"
      ]
     },
     "execution_count": 14,
     "metadata": {},
     "output_type": "execute_result"
    }
   ],
   "source": [
    "consensus.to_html()"
   ]
  },
  {
   "cell_type": "code",
   "execution_count": null,
   "metadata": {},
   "outputs": [],
   "source": []
  }
 ],
 "metadata": {
  "kernelspec": {
   "display_name": "Python 3",
   "language": "python",
   "name": "python3"
  },
  "language_info": {
   "codemirror_mode": {
    "name": "ipython",
    "version": 3
   },
   "file_extension": ".py",
   "mimetype": "text/x-python",
   "name": "python",
   "nbconvert_exporter": "python",
   "pygments_lexer": "ipython3",
   "version": "3.7.6"
  }
 },
 "nbformat": 4,
 "nbformat_minor": 4
}
